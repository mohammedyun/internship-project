{
 "cells": [
  {
   "cell_type": "code",
   "execution_count": 1,
   "id": "2929b11d-bc8f-4cbc-8652-c84a9a71040a",
   "metadata": {},
   "outputs": [
    {
     "name": "stdout",
     "output_type": "stream",
     "text": [
      "==================================================\n",
      "Starting web scraping at 2025-04-03 14:19:45\n",
      "==================================================\n",
      "\n",
      "Title: Comparison of programming languages - Wikipedia\n",
      "--------------------------------------------------\n",
      "\n",
      "Headings:\n",
      "  - Comparison of programming languages\n",
      "  - Contents\n",
      "  - General comparison [edit]\n",
      "  - Type systems [edit]\n",
      "  - Failsafe I/O and system calls [edit]\n",
      "  - Expressiveness [edit]\n",
      "  - Benchmarks [edit]\n",
      "  - Timeline of specific language comparisons [edit]\n",
      "  - See also [edit]\n",
      "  - References [edit]\n",
      "  - Further reading [edit]\n",
      "\n",
      "Paragraphs:\n",
      "  \n",
      "\n",
      "  Programming languagesare used for controlling the behavior of a machine (often acomputer). Likenatural languages, programming languages follow rules forsyntaxandsemantics.\n",
      "\n",
      "First Hyperlink: #bodyContent\n"
     ]
    }
   ],
   "source": [
    "import requests\n",
    "from bs4 import BeautifulSoup\n",
    "from datetime import datetime\n",
    "\n",
    "def scrape_webpage(url):\n",
    "    try:\n",
    "        print(\"=\" * 50)\n",
    "        print(f\"Starting web scraping at {datetime.now().strftime('%Y-%m-%d %H:%M:%S')}\")\n",
    "        print(\"=\" * 50)\n",
    "        \n",
    "        response = requests.get(url)\n",
    "        if response.status_code == 200:\n",
    "            soup = BeautifulSoup(response.content, 'html.parser')\n",
    "            \n",
    "            title = soup.title.string if soup.title else 'No title found'\n",
    "            print(f\"\\nTitle: {title}\\n{'-' * 50}\")\n",
    "            \n",
    "            print(\"\\nHeadings:\")\n",
    "            for i in range(1, 4):\n",
    "                for heading in soup.find_all(f'h{i}'):\n",
    "                    heading_text = heading.get_text(\" \", strip=True)\n",
    "                    \n",
    "                    if heading.find_next_sibling(class_=\"mw-editsection\"):\n",
    "                        heading_text += \" [edit]\"\n",
    "                    \n",
    "                    print(f\"  - {heading_text}\")\n",
    "            \n",
    "            print(\"\\nParagraphs:\")\n",
    "            paragraphs = soup.find_all('p')\n",
    "            for paragraph in paragraphs[:2]:  \n",
    "                print(f\"  {paragraph.get_text(strip=True)}\\n\")\n",
    "            \n",
    "            first_link = soup.find('a', href=True)\n",
    "            if first_link:\n",
    "                print(f\"First Hyperlink: {first_link['href']}\")\n",
    "            else:\n",
    "                print(\"No hyperlinks found.\")\n",
    "            \n",
    "        else:\n",
    "            print(f\"Error: Unable to retrieve webpage. Status code: {response.status_code}\")\n",
    "    except Exception as e:\n",
    "        print(f\"An error occurred: {e}\")\n",
    "\n",
    "url = \"https://en.wikipedia.org/wiki/Comparison_of_programming_languages\"\n",
    "scrape_webpage(url)\n"
   ]
  },
  {
   "cell_type": "code",
   "execution_count": null,
   "id": "3b8e08b5-b839-43a2-a71d-081fbfa9fad4",
   "metadata": {},
   "outputs": [],
   "source": []
  }
 ],
 "metadata": {
  "kernelspec": {
   "display_name": "Python 3 (ipykernel)",
   "language": "python",
   "name": "python3"
  },
  "language_info": {
   "codemirror_mode": {
    "name": "ipython",
    "version": 3
   },
   "file_extension": ".py",
   "mimetype": "text/x-python",
   "name": "python",
   "nbconvert_exporter": "python",
   "pygments_lexer": "ipython3",
   "version": "3.12.7"
  }
 },
 "nbformat": 4,
 "nbformat_minor": 5
}
